{
 "cells": [
  {
   "cell_type": "markdown",
   "id": "2abfe28d",
   "metadata": {},
   "source": [
    "<p style=\"padding: 10px;\n",
    "          font-size:50px;\n",
    "          font-weight: bolder;\n",
    "          color: rgba(124, 203, 234, 0.75)\">\n",
    "    Laboratory Task 1\n",
    "</p>"
   ]
  },
  {
   "cell_type": "markdown",
   "id": "14e37496",
   "metadata": {},
   "source": [
    "<a name=\"000\" style=\"color: black\">\n",
    "    <p style=\"padding: 10px;\n",
    "              font-size:25px;\n",
    "              font-weight: bolder\">\n",
    "        Table of Contents\n",
    "    </p>\n",
    "</a>\n",
    "\n",
    "<div style=\"padding: 20px;\n",
    "            margin-top: 20px;\n",
    "            color: black;\n",
    "            background: rgba(124,203,234,0.25)\">\n",
    "    <ol>\n",
    "        <li><a href=\"#001\">Option 1: Regression Model</a></li>\n",
    "        <li><a href=\"#002\">Option 2: Time Series Model</a></li>\n",
    "    </ol>\n",
    "</div>"
   ]
  },
  {
   "cell_type": "code",
   "execution_count": 1,
   "id": "955c36e3",
   "metadata": {},
   "outputs": [],
   "source": [
    "# !pip install eli5 xgboost statsmodels"
   ]
  },
  {
   "cell_type": "code",
   "execution_count": 2,
   "id": "a4a8639c",
   "metadata": {},
   "outputs": [],
   "source": [
    "import datetime\n",
    "import numpy as np\n",
    "import pandas as pd\n",
    "from matplotlib import pyplot as plt\n",
    "import seaborn as sns\n",
    "import warnings\n",
    "import pickle\n",
    "import eli5\n",
    "\n",
    "from sklearn.utils import shuffle\n",
    "from statsmodels.tsa.arima.model import ARIMA\n",
    "from sklearn.metrics import mean_absolute_error, mean_squared_error, r2_score\n",
    "from sklearn.model_selection import GridSearchCV\n",
    "from xgboost import XGBRegressor\n",
    "\n",
    "warnings.filterwarnings(action=\"ignore\")\n",
    "sns.set_theme(style=\"whitegrid\", palette=\"pastel\")\n",
    "%matplotlib inline"
   ]
  },
  {
   "cell_type": "markdown",
   "id": "edb2ba1d",
   "metadata": {},
   "source": [
    "<blockquote style=\"border-color: rgba(124,203,234,0.25)\">\n",
    "    <a name=\"001\" style=\"color: black\">\n",
    "        <p style=\"padding: 10px;\n",
    "              font-size:25px;\n",
    "              font-weight: bolder\">\n",
    "            Option 1: Regression Model\n",
    "        </p>\n",
    "    </a>\n",
    "</blockquote>"
   ]
  },
  {
   "cell_type": "code",
   "execution_count": 3,
   "id": "0c91e498",
   "metadata": {},
   "outputs": [
    {
     "data": {
      "text/html": [
       "<div>\n",
       "<style scoped>\n",
       "    .dataframe tbody tr th:only-of-type {\n",
       "        vertical-align: middle;\n",
       "    }\n",
       "\n",
       "    .dataframe tbody tr th {\n",
       "        vertical-align: top;\n",
       "    }\n",
       "\n",
       "    .dataframe thead th {\n",
       "        text-align: right;\n",
       "    }\n",
       "</style>\n",
       "<table border=\"1\" class=\"dataframe\">\n",
       "  <thead>\n",
       "    <tr style=\"text-align: right;\">\n",
       "      <th></th>\n",
       "      <th>lon</th>\n",
       "      <th>lat</th>\n",
       "      <th>sum</th>\n",
       "      <th>year</th>\n",
       "      <th>month</th>\n",
       "      <th>day</th>\n",
       "      <th>hour</th>\n",
       "      <th>weekday</th>\n",
       "      <th>weekend</th>\n",
       "      <th>holiday</th>\n",
       "      <th>point_id</th>\n",
       "    </tr>\n",
       "  </thead>\n",
       "  <tbody>\n",
       "    <tr>\n",
       "      <th>0</th>\n",
       "      <td>30.250000</td>\n",
       "      <td>60.03125</td>\n",
       "      <td>1</td>\n",
       "      <td>2019</td>\n",
       "      <td>1</td>\n",
       "      <td>1</td>\n",
       "      <td>0</td>\n",
       "      <td>1</td>\n",
       "      <td>0</td>\n",
       "      <td>1</td>\n",
       "      <td>0</td>\n",
       "    </tr>\n",
       "    <tr>\n",
       "      <th>1</th>\n",
       "      <td>30.250000</td>\n",
       "      <td>59.84375</td>\n",
       "      <td>1</td>\n",
       "      <td>2019</td>\n",
       "      <td>1</td>\n",
       "      <td>1</td>\n",
       "      <td>0</td>\n",
       "      <td>1</td>\n",
       "      <td>0</td>\n",
       "      <td>1</td>\n",
       "      <td>1</td>\n",
       "    </tr>\n",
       "    <tr>\n",
       "      <th>2</th>\n",
       "      <td>30.234375</td>\n",
       "      <td>59.96875</td>\n",
       "      <td>1</td>\n",
       "      <td>2019</td>\n",
       "      <td>1</td>\n",
       "      <td>1</td>\n",
       "      <td>0</td>\n",
       "      <td>1</td>\n",
       "      <td>0</td>\n",
       "      <td>1</td>\n",
       "      <td>2</td>\n",
       "    </tr>\n",
       "    <tr>\n",
       "      <th>3</th>\n",
       "      <td>30.234375</td>\n",
       "      <td>59.84375</td>\n",
       "      <td>2</td>\n",
       "      <td>2019</td>\n",
       "      <td>1</td>\n",
       "      <td>1</td>\n",
       "      <td>0</td>\n",
       "      <td>1</td>\n",
       "      <td>0</td>\n",
       "      <td>1</td>\n",
       "      <td>3</td>\n",
       "    </tr>\n",
       "    <tr>\n",
       "      <th>4</th>\n",
       "      <td>30.234375</td>\n",
       "      <td>60.03125</td>\n",
       "      <td>1</td>\n",
       "      <td>2019</td>\n",
       "      <td>1</td>\n",
       "      <td>1</td>\n",
       "      <td>0</td>\n",
       "      <td>1</td>\n",
       "      <td>0</td>\n",
       "      <td>1</td>\n",
       "      <td>4</td>\n",
       "    </tr>\n",
       "  </tbody>\n",
       "</table>\n",
       "</div>"
      ],
      "text/plain": [
       "         lon       lat  sum  year  month  day  hour  weekday  weekend  \\\n",
       "0  30.250000  60.03125    1  2019      1    1     0        1        0   \n",
       "1  30.250000  59.84375    1  2019      1    1     0        1        0   \n",
       "2  30.234375  59.96875    1  2019      1    1     0        1        0   \n",
       "3  30.234375  59.84375    2  2019      1    1     0        1        0   \n",
       "4  30.234375  60.03125    1  2019      1    1     0        1        0   \n",
       "\n",
       "   holiday  point_id  \n",
       "0        1         0  \n",
       "1        1         1  \n",
       "2        1         2  \n",
       "3        1         3  \n",
       "4        1         4  "
      ]
     },
     "execution_count": 3,
     "metadata": {},
     "output_type": "execute_result"
    }
   ],
   "source": [
    "train_data = pd.read_csv(\"src\\\\reg_train.csv\",\n",
    "    dtype={\n",
    "        \"lon\": np.float16, \"lat\": np.float16, \"sum\": np.int16,\n",
    "        \"year\": np.int16, \"month\": np.int16, \"day\": np.int16,\n",
    "        \"hour\": np.int16, \"weekday\": np.int16, \"weekend\": np.int16,\n",
    "        \"holiday\": np.int16, \"point_id\": np.int16\n",
    "    })\n",
    "\n",
    "test_data = pd.read_csv(\"src\\\\reg_test.csv\",\n",
    "    dtype={\n",
    "        \"lon\": np.float16, \"lat\": np.float16, \"sum\": np.int16,\n",
    "        \"year\": np.int16, \"month\": np.int16, \"day\": np.int16,\n",
    "        \"hour\": np.int16, \"weekday\": np.int16, \"weekend\": np.int16,\n",
    "        \"holiday\": np.int16, \"point_id\": np.int16, \"error\": np.float16\n",
    "    })\n",
    "\n",
    "valid_data = pd.read_csv(\"src\\\\reg_valid.csv\",\n",
    "    dtype={\n",
    "        \"lon\": np.float16, \"lat\": np.float16, \"sum\": np.int16,\n",
    "        \"year\": np.int16, \"month\": np.int16, \"day\": np.int16,\n",
    "        \"hour\": np.int16, \"weekday\": np.int16, \"weekend\": np.int16,\n",
    "        \"holiday\": np.int16, \"point_id\": np.int16, \"error\": np.float16\n",
    "    })\n",
    "\n",
    "train_data.head()"
   ]
  },
  {
   "cell_type": "code",
   "execution_count": 4,
   "id": "90e1d9ed",
   "metadata": {},
   "outputs": [
    {
     "name": "stdout",
     "output_type": "stream",
     "text": [
      "Dataset shape: (3623620, 10)\n",
      "Dataset shape: (700, 10)\n",
      "Dataset shape: (686, 10)\n"
     ]
    }
   ],
   "source": [
    "X_train = train_data.drop([\"sum\"], axis=1)\n",
    "print(f\"Dataset shape: {X_train.shape}\")\n",
    "y_train = train_data[[\"sum\"]]\n",
    "\n",
    "X_test = test_data.drop([\"sum\", \"error\"], axis=1)\n",
    "X_test = X_test.loc[:, X_train.columns]\n",
    "print(f\"Dataset shape: {X_test.shape}\")\n",
    "y_test = test_data[[\"sum\"]]\n",
    "\n",
    "X_valid = valid_data.drop([\"sum\", \"error\"], axis=1)\n",
    "X_valid = X_valid.loc[:, X_train.columns]\n",
    "print(f\"Dataset shape: {X_valid.shape}\")\n",
    "y_valid = valid_data[[\"sum\"]]"
   ]
  },
  {
   "cell_type": "code",
   "execution_count": 5,
   "id": "4b9e6c28",
   "metadata": {},
   "outputs": [],
   "source": [
    "X_train, y_train = shuffle(X_train, y_train)\n",
    "X_test, y_test = shuffle(X_test, y_test)\n",
    "X_valid, y_valid = shuffle(X_valid, y_valid)"
   ]
  },
  {
   "cell_type": "code",
   "execution_count": 6,
   "id": "b2829b2c",
   "metadata": {},
   "outputs": [
    {
     "data": {
      "text/plain": [
       "<bound method XGBModel.get_params of XGBRegressor(base_score=0.5, booster='gbtree', callbacks=None,\n",
       "             colsample_bylevel=1, colsample_bynode=1, colsample_bytree=1,\n",
       "             early_stopping_rounds=None, enable_categorical=False,\n",
       "             eval_metric=None, feature_types=None, gamma=0, gpu_id=-1,\n",
       "             grow_policy='depthwise', importance_type=None,\n",
       "             interaction_constraints='', learning_rate=0.300000012, max_bin=256,\n",
       "             max_cat_threshold=64, max_cat_to_onehot=4, max_delta_step=0,\n",
       "             max_depth=6, max_leaves=0, min_child_weight=1, missing=nan,\n",
       "             monotone_constraints='()', n_estimators=100, n_jobs=-1,\n",
       "             num_parallel_tree=1, predictor='auto', random_state=0, ...)>"
      ]
     },
     "execution_count": 6,
     "metadata": {},
     "output_type": "execute_result"
    }
   ],
   "source": [
    "xgb = XGBRegressor(n_jobs=-1)\n",
    "xgb_stat = xgb.fit(X_train, y_train)\n",
    "xgb_stat.get_params"
   ]
  },
  {
   "cell_type": "code",
   "execution_count": 7,
   "id": "50d5b295",
   "metadata": {},
   "outputs": [
    {
     "name": "stdout",
     "output_type": "stream",
     "text": [
      "4.374427\n",
      "44.022705\n",
      "0.044087573367549426\n"
     ]
    }
   ],
   "source": [
    "prediction = xgb_stat.predict(X_test)\n",
    "\n",
    "print(mean_absolute_error(prediction, y_test))\n",
    "print(mean_squared_error(prediction, y_test))\n",
    "print(r2_score(prediction, y_test))"
   ]
  },
  {
   "cell_type": "code",
   "execution_count": 8,
   "id": "e489fc68",
   "metadata": {},
   "outputs": [
    {
     "name": "stdout",
     "output_type": "stream",
     "text": [
      "4.4864936\n",
      "40.546734\n",
      "0.22247252372041437\n"
     ]
    }
   ],
   "source": [
    "prediction = xgb_stat.predict(X_valid)\n",
    "\n",
    "print(mean_absolute_error(prediction, y_valid))\n",
    "print(mean_squared_error(prediction, y_valid))\n",
    "print(r2_score(prediction, y_valid))"
   ]
  },
  {
   "cell_type": "code",
   "execution_count": null,
   "id": "4d93d04a",
   "metadata": {},
   "outputs": [
    {
     "name": "stdout",
     "output_type": "stream",
     "text": [
      "Fitting 2 folds for each of 16 candidates, totalling 32 fits\n"
     ]
    }
   ],
   "source": [
    "xgb = XGBRegressor(n_jobs=-1)\n",
    "\n",
    "xgb_param_grid = {\n",
    "    \"max_depth\": [10, 20],\n",
    "    \"learning_rate\": [0.15, 0.5],\n",
    "    \"max_leaves\": [10, 20],\n",
    "    \"n_estimators\": [200, 300]\n",
    "}\n",
    "\n",
    "xgb_regressor = GridSearchCV(estimator=xgb, param_grid=xgb_param_grid, scoring=\"neg_mean_absolute_error\", cv=2, verbose=True)\n",
    "best_xgb = xgb_regressor.fit(X_train, y_train)\n",
    "best_xgb.best_params_"
   ]
  },
  {
   "cell_type": "code",
   "execution_count": null,
   "id": "dd4a51fc",
   "metadata": {},
   "outputs": [],
   "source": [
    "prediction = best_xgb.predict(X_test)\n",
    "\n",
    "print(mean_absolute_error(prediction, y_test))\n",
    "print(mean_squared_error(prediction, y_test))\n",
    "print(r2_score(prediction, y_test))"
   ]
  },
  {
   "cell_type": "code",
   "execution_count": null,
   "id": "00fccf5b",
   "metadata": {},
   "outputs": [],
   "source": [
    "prediction = best_xgb.predict(X_valid)\n",
    "\n",
    "print(mean_absolute_error(prediction, y_valid))\n",
    "print(mean_squared_error(prediction, y_valid))\n",
    "print(r2_score(prediction, y_valid))"
   ]
  },
  {
   "cell_type": "code",
   "execution_count": null,
   "id": "1767cba8",
   "metadata": {},
   "outputs": [],
   "source": [
    "with open(\"model.pkl\", \"wb\") as fp:\n",
    "    pickle.dump(best_xgb, fp)"
   ]
  },
  {
   "cell_type": "code",
   "execution_count": null,
   "id": "036c4f89",
   "metadata": {},
   "outputs": [],
   "source": [
    "importance = PermutationImportance(best_xgb, random_state=42).fit(X_valid, y_valid)\n",
    "eli5.show_weights(importance, feature_names=X_valid.columns.tolist())"
   ]
  },
  {
   "cell_type": "markdown",
   "id": "22e7a1ea",
   "metadata": {},
   "source": [
    "<blockquote style=\"border-color: rgba(124,203,234,0.25)\">\n",
    "    <a name=\"002\" style=\"color: black\">\n",
    "        <p style=\"padding: 10px;\n",
    "              font-size:25px;\n",
    "              font-weight: bolder\">\n",
    "            Option 2: Time Series Model\n",
    "        </p>\n",
    "    </a>\n",
    "</blockquote>"
   ]
  },
  {
   "cell_type": "code",
   "execution_count": null,
   "id": "1a060052",
   "metadata": {},
   "outputs": [],
   "source": [
    "train_data = pd.read_csv(\"time_train.csv\", parse_dates=[\"datetime\"], index_col=[\"datetime\"], encoding=\"cp1251\")\n",
    "test_data = pd.read_csv(\"time_test.csv\", parse_dates=[\"datetime\"], index_col=[\"datetime\"], encoding=\"cp1251\")\n",
    "valid_data = pd.read_csv(\"time_valid.csv\", parse_dates=[\"datetime\"], index_col=[\"datetime\"], encoding=\"cp1251\")\n",
    "\n",
    "train_data.head()"
   ]
  },
  {
   "cell_type": "code",
   "execution_count": null,
   "id": "3e979948",
   "metadata": {},
   "outputs": [],
   "source": [
    "arima_model = ARIMA(train_data[\"sum\"])\n",
    "arima_trained = arima_model.fit()"
   ]
  },
  {
   "cell_type": "code",
   "execution_count": null,
   "id": "708367f5",
   "metadata": {},
   "outputs": [],
   "source": [
    "forecast = result.predict(\n",
    "    start= len(train_data),\n",
    "    end = (len(train_data)-1)+200,\n",
    "    typ =\"levels\"\n",
    ").rename(\"forecast\")"
   ]
  }
 ],
 "metadata": {
  "kernelspec": {
   "display_name": "Python 3 (ipykernel)",
   "language": "python",
   "name": "python3"
  },
  "language_info": {
   "codemirror_mode": {
    "name": "ipython",
    "version": 3
   },
   "file_extension": ".py",
   "mimetype": "text/x-python",
   "name": "python",
   "nbconvert_exporter": "python",
   "pygments_lexer": "ipython3",
   "version": "3.9.7"
  }
 },
 "nbformat": 4,
 "nbformat_minor": 5
}
