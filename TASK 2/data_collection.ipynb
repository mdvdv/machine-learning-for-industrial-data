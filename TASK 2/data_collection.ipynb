{
 "cells": [
  {
   "cell_type": "markdown",
   "id": "93541ed0",
   "metadata": {},
   "source": [
    "<p style=\"padding: 10px;\n",
    "          font-size:50px;\n",
    "          font-weight: bolder;\n",
    "          color: rgba(124, 203, 234, 0.75)\">\n",
    "    Laboratory Task 2\n",
    "</p>"
   ]
  },
  {
   "cell_type": "markdown",
   "id": "defcbb3d",
   "metadata": {},
   "source": [
    "<a name=\"000\" style=\"color: black\">\n",
    "    <p style=\"padding: 10px;\n",
    "              font-size:25px;\n",
    "              font-weight: bolder\">\n",
    "        Table of Contents\n",
    "    </p>\n",
    "</a>\n",
    "\n",
    "<div style=\"padding: 20px;\n",
    "            margin-top: 20px;\n",
    "            color: black;\n",
    "            background: rgba(124,203,234,0.25)\">\n",
    "    <ol>\n",
    "        <li><a href=\"#001\">Data Preprocessing</a></li>\n",
    "        <li><a href=\"#002\">Data Collection</a></li>\n",
    "    </ol>\n",
    "</div>"
   ]
  },
  {
   "cell_type": "code",
   "execution_count": 1,
   "id": "0ef1e9c3",
   "metadata": {},
   "outputs": [],
   "source": [
    "# !pip install beautifulsoup4"
   ]
  },
  {
   "cell_type": "code",
   "execution_count": 2,
   "id": "d883a241",
   "metadata": {},
   "outputs": [],
   "source": [
    "import pandas as pd\n",
    "from bs4 import BeautifulSoup\n",
    "from __future__ import annotations\n",
    "from matplotlib import pyplot as plt\n",
    "from tqdm.auto import tqdm\n",
    "import seaborn as sns\n",
    "import warnings\n",
    "import urllib\n",
    "import os\n",
    "\n",
    "warnings.filterwarnings(action=\"ignore\")\n",
    "sns.set_theme(style=\"whitegrid\", palette=\"pastel\")\n",
    "%matplotlib inline"
   ]
  },
  {
   "cell_type": "markdown",
   "id": "2f87d577",
   "metadata": {},
   "source": [
    "<blockquote style=\"border-color: rgba(124,203,234,0.25)\">\n",
    "    <a name=\"001\" style=\"color: black\">\n",
    "        <p style=\"padding: 10px;\n",
    "              font-size:25px;\n",
    "              font-weight: bolder\">\n",
    "            Data Preprocessing\n",
    "        </p>\n",
    "    </a>\n",
    "</blockquote>"
   ]
  },
  {
   "cell_type": "markdown",
   "id": "49eceb87",
   "metadata": {},
   "source": [
    "Collecting data for training and validation: film titles, posters, and short descriptions from imdb.com. First, let's download the official movie dataset from imdb.com: https://www.imdb.com/interfaces.\n",
    "\n",
    "**title.basics.tsv.gz** сontains useful information:\n",
    "- **tconst** (string) - alphanumeric unique identifier of the title\n",
    "- **titleType** (string) – the type/format of the title (e.g. movie, short, tvseries, tvepisode, video, etc)\n",
    "- **primaryTitle** (string) – the more popular title / the title used by the filmmakers on promotional materials at the point of release\n",
    "- **startYear** (YYYY) – represents the release year of a title. In the case of TV Series, it is the series start year\n",
    "- **genres** (string array) – includes up to three genres associated with the title"
   ]
  },
  {
   "cell_type": "code",
   "execution_count": 3,
   "id": "0e6559db",
   "metadata": {},
   "outputs": [
    {
     "name": "stdout",
     "output_type": "stream",
     "text": [
      "Number of unique titles: 9372141\n"
     ]
    },
    {
     "data": {
      "text/html": [
       "<div>\n",
       "<style scoped>\n",
       "    .dataframe tbody tr th:only-of-type {\n",
       "        vertical-align: middle;\n",
       "    }\n",
       "\n",
       "    .dataframe tbody tr th {\n",
       "        vertical-align: top;\n",
       "    }\n",
       "\n",
       "    .dataframe thead th {\n",
       "        text-align: right;\n",
       "    }\n",
       "</style>\n",
       "<table border=\"1\" class=\"dataframe\">\n",
       "  <thead>\n",
       "    <tr style=\"text-align: right;\">\n",
       "      <th></th>\n",
       "      <th>tconst</th>\n",
       "      <th>titleType</th>\n",
       "      <th>primaryTitle</th>\n",
       "      <th>originalTitle</th>\n",
       "      <th>isAdult</th>\n",
       "      <th>startYear</th>\n",
       "      <th>endYear</th>\n",
       "      <th>runtimeMinutes</th>\n",
       "      <th>genres</th>\n",
       "    </tr>\n",
       "  </thead>\n",
       "  <tbody>\n",
       "    <tr>\n",
       "      <th>0</th>\n",
       "      <td>tt0000001</td>\n",
       "      <td>short</td>\n",
       "      <td>Carmencita</td>\n",
       "      <td>Carmencita</td>\n",
       "      <td>0</td>\n",
       "      <td>1894</td>\n",
       "      <td>\\N</td>\n",
       "      <td>1</td>\n",
       "      <td>Documentary,Short</td>\n",
       "    </tr>\n",
       "    <tr>\n",
       "      <th>1</th>\n",
       "      <td>tt0000002</td>\n",
       "      <td>short</td>\n",
       "      <td>Le clown et ses chiens</td>\n",
       "      <td>Le clown et ses chiens</td>\n",
       "      <td>0</td>\n",
       "      <td>1892</td>\n",
       "      <td>\\N</td>\n",
       "      <td>5</td>\n",
       "      <td>Animation,Short</td>\n",
       "    </tr>\n",
       "    <tr>\n",
       "      <th>2</th>\n",
       "      <td>tt0000003</td>\n",
       "      <td>short</td>\n",
       "      <td>Pauvre Pierrot</td>\n",
       "      <td>Pauvre Pierrot</td>\n",
       "      <td>0</td>\n",
       "      <td>1892</td>\n",
       "      <td>\\N</td>\n",
       "      <td>4</td>\n",
       "      <td>Animation,Comedy,Romance</td>\n",
       "    </tr>\n",
       "    <tr>\n",
       "      <th>3</th>\n",
       "      <td>tt0000004</td>\n",
       "      <td>short</td>\n",
       "      <td>Un bon bock</td>\n",
       "      <td>Un bon bock</td>\n",
       "      <td>0</td>\n",
       "      <td>1892</td>\n",
       "      <td>\\N</td>\n",
       "      <td>12</td>\n",
       "      <td>Animation,Short</td>\n",
       "    </tr>\n",
       "    <tr>\n",
       "      <th>4</th>\n",
       "      <td>tt0000005</td>\n",
       "      <td>short</td>\n",
       "      <td>Blacksmith Scene</td>\n",
       "      <td>Blacksmith Scene</td>\n",
       "      <td>0</td>\n",
       "      <td>1893</td>\n",
       "      <td>\\N</td>\n",
       "      <td>1</td>\n",
       "      <td>Comedy,Short</td>\n",
       "    </tr>\n",
       "  </tbody>\n",
       "</table>\n",
       "</div>"
      ],
      "text/plain": [
       "      tconst titleType            primaryTitle           originalTitle  \\\n",
       "0  tt0000001     short              Carmencita              Carmencita   \n",
       "1  tt0000002     short  Le clown et ses chiens  Le clown et ses chiens   \n",
       "2  tt0000003     short          Pauvre Pierrot          Pauvre Pierrot   \n",
       "3  tt0000004     short             Un bon bock             Un bon bock   \n",
       "4  tt0000005     short        Blacksmith Scene        Blacksmith Scene   \n",
       "\n",
       "  isAdult startYear endYear runtimeMinutes                    genres  \n",
       "0       0      1894      \\N              1         Documentary,Short  \n",
       "1       0      1892      \\N              5           Animation,Short  \n",
       "2       0      1892      \\N              4  Animation,Comedy,Romance  \n",
       "3       0      1892      \\N             12           Animation,Short  \n",
       "4       0      1893      \\N              1              Comedy,Short  "
      ]
     },
     "execution_count": 3,
     "metadata": {},
     "output_type": "execute_result"
    }
   ],
   "source": [
    "raw_data = pd.read_csv(\"imdb.tsv\", sep=\"\\t\", low_memory=False)\n",
    "print(f\"Number of unique titles: {raw_data['tconst'].nunique()}\")\n",
    "raw_data.head()"
   ]
  },
  {
   "cell_type": "markdown",
   "id": "25f7fdbe",
   "metadata": {},
   "source": [
    "Let's leave only the information that is important."
   ]
  },
  {
   "cell_type": "code",
   "execution_count": 4,
   "id": "32345177",
   "metadata": {},
   "outputs": [
    {
     "data": {
      "text/html": [
       "<div>\n",
       "<style scoped>\n",
       "    .dataframe tbody tr th:only-of-type {\n",
       "        vertical-align: middle;\n",
       "    }\n",
       "\n",
       "    .dataframe tbody tr th {\n",
       "        vertical-align: top;\n",
       "    }\n",
       "\n",
       "    .dataframe thead th {\n",
       "        text-align: right;\n",
       "    }\n",
       "</style>\n",
       "<table border=\"1\" class=\"dataframe\">\n",
       "  <thead>\n",
       "    <tr style=\"text-align: right;\">\n",
       "      <th></th>\n",
       "      <th>tconst</th>\n",
       "      <th>titleType</th>\n",
       "      <th>primaryTitle</th>\n",
       "      <th>startYear</th>\n",
       "      <th>genres</th>\n",
       "    </tr>\n",
       "  </thead>\n",
       "  <tbody>\n",
       "    <tr>\n",
       "      <th>0</th>\n",
       "      <td>tt0000001</td>\n",
       "      <td>short</td>\n",
       "      <td>Carmencita</td>\n",
       "      <td>1894</td>\n",
       "      <td>Documentary,Short</td>\n",
       "    </tr>\n",
       "    <tr>\n",
       "      <th>1</th>\n",
       "      <td>tt0000002</td>\n",
       "      <td>short</td>\n",
       "      <td>Le clown et ses chiens</td>\n",
       "      <td>1892</td>\n",
       "      <td>Animation,Short</td>\n",
       "    </tr>\n",
       "    <tr>\n",
       "      <th>2</th>\n",
       "      <td>tt0000003</td>\n",
       "      <td>short</td>\n",
       "      <td>Pauvre Pierrot</td>\n",
       "      <td>1892</td>\n",
       "      <td>Animation,Comedy,Romance</td>\n",
       "    </tr>\n",
       "    <tr>\n",
       "      <th>3</th>\n",
       "      <td>tt0000004</td>\n",
       "      <td>short</td>\n",
       "      <td>Un bon bock</td>\n",
       "      <td>1892</td>\n",
       "      <td>Animation,Short</td>\n",
       "    </tr>\n",
       "    <tr>\n",
       "      <th>4</th>\n",
       "      <td>tt0000005</td>\n",
       "      <td>short</td>\n",
       "      <td>Blacksmith Scene</td>\n",
       "      <td>1893</td>\n",
       "      <td>Comedy,Short</td>\n",
       "    </tr>\n",
       "  </tbody>\n",
       "</table>\n",
       "</div>"
      ],
      "text/plain": [
       "      tconst titleType            primaryTitle startYear  \\\n",
       "0  tt0000001     short              Carmencita      1894   \n",
       "1  tt0000002     short  Le clown et ses chiens      1892   \n",
       "2  tt0000003     short          Pauvre Pierrot      1892   \n",
       "3  tt0000004     short             Un bon bock      1892   \n",
       "4  tt0000005     short        Blacksmith Scene      1893   \n",
       "\n",
       "                     genres  \n",
       "0         Documentary,Short  \n",
       "1           Animation,Short  \n",
       "2  Animation,Comedy,Romance  \n",
       "3           Animation,Short  \n",
       "4              Comedy,Short  "
      ]
     },
     "execution_count": 4,
     "metadata": {},
     "output_type": "execute_result"
    }
   ],
   "source": [
    "raw_data = raw_data[[\"tconst\", \"titleType\", \"primaryTitle\", \"startYear\", \"genres\"]]\n",
    "raw_data.head()"
   ]
  },
  {
   "cell_type": "markdown",
   "id": "bde4931a",
   "metadata": {},
   "source": [
    "Let's leave only those lines that relate to films."
   ]
  },
  {
   "cell_type": "code",
   "execution_count": null,
   "id": "bfef52c5",
   "metadata": {},
   "outputs": [],
   "source": [
    "raw_data = raw_data[raw_data[\"titleType\"] == \"movie\"]\n",
    "print(f\"Number of unique titles: {raw_data['tconst'].nunique()}\")\n",
    "raw_data.head()"
   ]
  },
  {
   "cell_type": "markdown",
   "id": "f15dd57c",
   "metadata": {},
   "source": [
    "There is too much data and not all films are relevant for predicting the genres of modern cinema. Let's leave only films made from 2010 to 2020 for the training and test sets, and from 2020 to the present for the validation set.\n",
    "\n",
    "First, let's remove the missing values. In the set they are listed as \"\\N\"."
   ]
  },
  {
   "cell_type": "code",
   "execution_count": 6,
   "id": "110a5a5f",
   "metadata": {},
   "outputs": [
    {
     "name": "stdout",
     "output_type": "stream",
     "text": [
      "Number of unique titles: 474719\n"
     ]
    },
    {
     "data": {
      "text/html": [
       "<div>\n",
       "<style scoped>\n",
       "    .dataframe tbody tr th:only-of-type {\n",
       "        vertical-align: middle;\n",
       "    }\n",
       "\n",
       "    .dataframe tbody tr th {\n",
       "        vertical-align: top;\n",
       "    }\n",
       "\n",
       "    .dataframe thead th {\n",
       "        text-align: right;\n",
       "    }\n",
       "</style>\n",
       "<table border=\"1\" class=\"dataframe\">\n",
       "  <thead>\n",
       "    <tr style=\"text-align: right;\">\n",
       "      <th></th>\n",
       "      <th>tconst</th>\n",
       "      <th>titleType</th>\n",
       "      <th>primaryTitle</th>\n",
       "      <th>startYear</th>\n",
       "      <th>genres</th>\n",
       "    </tr>\n",
       "  </thead>\n",
       "  <tbody>\n",
       "    <tr>\n",
       "      <th>0</th>\n",
       "      <td>tt0000009</td>\n",
       "      <td>movie</td>\n",
       "      <td>Miss Jerry</td>\n",
       "      <td>1894</td>\n",
       "      <td>Romance</td>\n",
       "    </tr>\n",
       "    <tr>\n",
       "      <th>1</th>\n",
       "      <td>tt0000574</td>\n",
       "      <td>movie</td>\n",
       "      <td>The Story of the Kelly Gang</td>\n",
       "      <td>1906</td>\n",
       "      <td>Action,Adventure,Biography</td>\n",
       "    </tr>\n",
       "    <tr>\n",
       "      <th>2</th>\n",
       "      <td>tt0000591</td>\n",
       "      <td>movie</td>\n",
       "      <td>The Prodigal Son</td>\n",
       "      <td>1907</td>\n",
       "      <td>Drama</td>\n",
       "    </tr>\n",
       "    <tr>\n",
       "      <th>3</th>\n",
       "      <td>tt0000615</td>\n",
       "      <td>movie</td>\n",
       "      <td>Robbery Under Arms</td>\n",
       "      <td>1907</td>\n",
       "      <td>Drama</td>\n",
       "    </tr>\n",
       "    <tr>\n",
       "      <th>4</th>\n",
       "      <td>tt0000630</td>\n",
       "      <td>movie</td>\n",
       "      <td>Hamlet</td>\n",
       "      <td>1908</td>\n",
       "      <td>Drama</td>\n",
       "    </tr>\n",
       "  </tbody>\n",
       "</table>\n",
       "</div>"
      ],
      "text/plain": [
       "      tconst titleType                 primaryTitle startYear  \\\n",
       "0  tt0000009     movie                   Miss Jerry      1894   \n",
       "1  tt0000574     movie  The Story of the Kelly Gang      1906   \n",
       "2  tt0000591     movie             The Prodigal Son      1907   \n",
       "3  tt0000615     movie           Robbery Under Arms      1907   \n",
       "4  tt0000630     movie                       Hamlet      1908   \n",
       "\n",
       "                       genres  \n",
       "0                     Romance  \n",
       "1  Action,Adventure,Biography  \n",
       "2                       Drama  \n",
       "3                       Drama  \n",
       "4                       Drama  "
      ]
     },
     "execution_count": 6,
     "metadata": {},
     "output_type": "execute_result"
    }
   ],
   "source": [
    "for column in raw_data:\n",
    "    raw_data = raw_data[raw_data[column] != r\"\\N\"]\n",
    "\n",
    "raw_data.reset_index(drop=True, inplace=True)\n",
    "print(f\"Number of unique titles: {raw_data['tconst'].nunique()}\")\n",
    "raw_data.head()"
   ]
  },
  {
   "cell_type": "code",
   "execution_count": 7,
   "id": "049a479a",
   "metadata": {},
   "outputs": [
    {
     "name": "stdout",
     "output_type": "stream",
     "text": [
      "Number of unique titles: 170663\n"
     ]
    },
    {
     "data": {
      "text/html": [
       "<div>\n",
       "<style scoped>\n",
       "    .dataframe tbody tr th:only-of-type {\n",
       "        vertical-align: middle;\n",
       "    }\n",
       "\n",
       "    .dataframe tbody tr th {\n",
       "        vertical-align: top;\n",
       "    }\n",
       "\n",
       "    .dataframe thead th {\n",
       "        text-align: right;\n",
       "    }\n",
       "</style>\n",
       "<table border=\"1\" class=\"dataframe\">\n",
       "  <thead>\n",
       "    <tr style=\"text-align: right;\">\n",
       "      <th></th>\n",
       "      <th>tconst</th>\n",
       "      <th>titleType</th>\n",
       "      <th>primaryTitle</th>\n",
       "      <th>startYear</th>\n",
       "      <th>genres</th>\n",
       "    </tr>\n",
       "  </thead>\n",
       "  <tbody>\n",
       "    <tr>\n",
       "      <th>0</th>\n",
       "      <td>tt0011801</td>\n",
       "      <td>movie</td>\n",
       "      <td>Tötet nicht mehr</td>\n",
       "      <td>2019</td>\n",
       "      <td>Action,Crime</td>\n",
       "    </tr>\n",
       "    <tr>\n",
       "      <th>1</th>\n",
       "      <td>tt0062336</td>\n",
       "      <td>movie</td>\n",
       "      <td>The Tango of the Widower and Its Distorting Mi...</td>\n",
       "      <td>2020</td>\n",
       "      <td>Drama</td>\n",
       "    </tr>\n",
       "    <tr>\n",
       "      <th>2</th>\n",
       "      <td>tt0069049</td>\n",
       "      <td>movie</td>\n",
       "      <td>The Other Side of the Wind</td>\n",
       "      <td>2018</td>\n",
       "      <td>Drama</td>\n",
       "    </tr>\n",
       "    <tr>\n",
       "      <th>3</th>\n",
       "      <td>tt0083060</td>\n",
       "      <td>movie</td>\n",
       "      <td>The Drive to Win</td>\n",
       "      <td>2019</td>\n",
       "      <td>Drama,Sport</td>\n",
       "    </tr>\n",
       "    <tr>\n",
       "      <th>4</th>\n",
       "      <td>tt0100275</td>\n",
       "      <td>movie</td>\n",
       "      <td>The Wandering Soap Opera</td>\n",
       "      <td>2017</td>\n",
       "      <td>Comedy,Drama,Fantasy</td>\n",
       "    </tr>\n",
       "  </tbody>\n",
       "</table>\n",
       "</div>"
      ],
      "text/plain": [
       "      tconst titleType                                       primaryTitle  \\\n",
       "0  tt0011801     movie                                   Tötet nicht mehr   \n",
       "1  tt0062336     movie  The Tango of the Widower and Its Distorting Mi...   \n",
       "2  tt0069049     movie                         The Other Side of the Wind   \n",
       "3  tt0083060     movie                                   The Drive to Win   \n",
       "4  tt0100275     movie                           The Wandering Soap Opera   \n",
       "\n",
       "   startYear                genres  \n",
       "0       2019          Action,Crime  \n",
       "1       2020                 Drama  \n",
       "2       2018                 Drama  \n",
       "3       2019           Drama,Sport  \n",
       "4       2017  Comedy,Drama,Fantasy  "
      ]
     },
     "execution_count": 7,
     "metadata": {},
     "output_type": "execute_result"
    }
   ],
   "source": [
    "raw_data[\"startYear\"] = pd.to_numeric(raw_data[\"startYear\"], errors=\"coerce\")\n",
    "train_data = raw_data[(raw_data[\"startYear\"] >= 2010) & (raw_data[\"startYear\"] <= 2020)]\n",
    "\n",
    "print(f\"Number of unique titles: {train_data['tconst'].nunique()}\")\n",
    "train_data.reset_index(drop=True, inplace=True)\n",
    "train_data.head()"
   ]
  },
  {
   "cell_type": "markdown",
   "id": "c2fcb133",
   "metadata": {},
   "source": [
    "Let's remove non-English movie titles."
   ]
  },
  {
   "cell_type": "code",
   "execution_count": 8,
   "id": "63242a7f",
   "metadata": {},
   "outputs": [
    {
     "name": "stdout",
     "output_type": "stream",
     "text": [
      "Number of unique titles: 161492\n"
     ]
    },
    {
     "data": {
      "text/html": [
       "<div>\n",
       "<style scoped>\n",
       "    .dataframe tbody tr th:only-of-type {\n",
       "        vertical-align: middle;\n",
       "    }\n",
       "\n",
       "    .dataframe tbody tr th {\n",
       "        vertical-align: top;\n",
       "    }\n",
       "\n",
       "    .dataframe thead th {\n",
       "        text-align: right;\n",
       "    }\n",
       "</style>\n",
       "<table border=\"1\" class=\"dataframe\">\n",
       "  <thead>\n",
       "    <tr style=\"text-align: right;\">\n",
       "      <th></th>\n",
       "      <th>tconst</th>\n",
       "      <th>titleType</th>\n",
       "      <th>primaryTitle</th>\n",
       "      <th>startYear</th>\n",
       "      <th>genres</th>\n",
       "    </tr>\n",
       "  </thead>\n",
       "  <tbody>\n",
       "    <tr>\n",
       "      <th>0</th>\n",
       "      <td>tt0062336</td>\n",
       "      <td>movie</td>\n",
       "      <td>The Tango of the Widower and Its Distorting Mi...</td>\n",
       "      <td>2020</td>\n",
       "      <td>Drama</td>\n",
       "    </tr>\n",
       "    <tr>\n",
       "      <th>1</th>\n",
       "      <td>tt0069049</td>\n",
       "      <td>movie</td>\n",
       "      <td>The Other Side of the Wind</td>\n",
       "      <td>2018</td>\n",
       "      <td>Drama</td>\n",
       "    </tr>\n",
       "    <tr>\n",
       "      <th>2</th>\n",
       "      <td>tt0083060</td>\n",
       "      <td>movie</td>\n",
       "      <td>The Drive to Win</td>\n",
       "      <td>2019</td>\n",
       "      <td>Drama,Sport</td>\n",
       "    </tr>\n",
       "    <tr>\n",
       "      <th>3</th>\n",
       "      <td>tt0100275</td>\n",
       "      <td>movie</td>\n",
       "      <td>The Wandering Soap Opera</td>\n",
       "      <td>2017</td>\n",
       "      <td>Comedy,Drama,Fantasy</td>\n",
       "    </tr>\n",
       "    <tr>\n",
       "      <th>4</th>\n",
       "      <td>tt0104278</td>\n",
       "      <td>movie</td>\n",
       "      <td>Flaming Ears</td>\n",
       "      <td>2013</td>\n",
       "      <td>Fantasy,Sci-Fi</td>\n",
       "    </tr>\n",
       "  </tbody>\n",
       "</table>\n",
       "</div>"
      ],
      "text/plain": [
       "      tconst titleType                                       primaryTitle  \\\n",
       "0  tt0062336     movie  The Tango of the Widower and Its Distorting Mi...   \n",
       "1  tt0069049     movie                         The Other Side of the Wind   \n",
       "2  tt0083060     movie                                   The Drive to Win   \n",
       "3  tt0100275     movie                           The Wandering Soap Opera   \n",
       "4  tt0104278     movie                                       Flaming Ears   \n",
       "\n",
       "   startYear                genres  \n",
       "0       2020                 Drama  \n",
       "1       2018                 Drama  \n",
       "2       2019           Drama,Sport  \n",
       "3       2017  Comedy,Drama,Fantasy  \n",
       "4       2013        Fantasy,Sci-Fi  "
      ]
     },
     "execution_count": 8,
     "metadata": {},
     "output_type": "execute_result"
    }
   ],
   "source": [
    "def filter_titles(title: str) -> str | None:\n",
    "    if title.isascii():\n",
    "        return title\n",
    "\n",
    "train_data[\"primaryTitle\"] = train_data[\"primaryTitle\"].apply(filter_titles)\n",
    "train_data.dropna(inplace=True)\n",
    "train_data.reset_index(drop=True, inplace=True)\n",
    "\n",
    "print(f\"Number of unique titles: {train_data['tconst'].nunique()}\")\n",
    "train_data.head()"
   ]
  },
  {
   "cell_type": "markdown",
   "id": "42c5e9cc",
   "metadata": {},
   "source": [
    "<blockquote style=\"border-color: rgba(124,203,234,0.25)\">\n",
    "    <a name=\"002\" style=\"color: black\">\n",
    "        <p style=\"padding: 10px;\n",
    "              font-size:25px;\n",
    "              font-weight: bolder\">\n",
    "            Data Collection\n",
    "        </p>\n",
    "    </a>\n",
    "</blockquote>"
   ]
  },
  {
   "cell_type": "code",
   "execution_count": 9,
   "id": "c3f838aa",
   "metadata": {},
   "outputs": [],
   "source": [
    "labels = [\n",
    "    \"Romance\", \"Action\", \"Adventure\", \"Animation\", \"Biography\", \"Comedy\", \"Crime\", \"Documentary\",\n",
    "    \"Drama\", \"Family\", \"Fantasy\", \"Film-Noir\", \"History\", \"Horror\", \"Music\", \"Superhero\",\n",
    "    \"Musical\", \"Mystery\", \"Sci-Fi\", \"Sport\", \"Thriller\", \"War\", \"Western\", \"Short\"\n",
    "]"
   ]
  },
  {
   "cell_type": "code",
   "execution_count": 10,
   "id": "cc16e26d",
   "metadata": {},
   "outputs": [],
   "source": [
    "root = \"imdb_dataset\"\n",
    "\n",
    "def create_directory(root: str, labels: str) -> None:\n",
    "    os.makedirs(root) if not os.path.exists(root) else 0\n",
    "    [os.makedirs(os.path.join(root, label)) for label in labels if not os.path.exists(os.path.join(root, label))]\n",
    "\n",
    "create_directory(root=root, labels=labels)"
   ]
  },
  {
   "cell_type": "markdown",
   "id": "a68dd72d",
   "metadata": {},
   "source": [
    "```\n",
    "imdb_dataset/\n",
    "            |\n",
    "            Romance/\n",
    "            |      |\n",
    "            |      0.jpg\n",
    "            |      ...\n",
    "            Action/\n",
    "            ...\n",
    "```"
   ]
  },
  {
   "cell_type": "code",
   "execution_count": 11,
   "id": "9c05a438",
   "metadata": {},
   "outputs": [],
   "source": [
    "train_data[\"used\"] = 0\n",
    "cleaned_data = pd.DataFrame(columns=[\"id\", \"title\", \"synopsis\", \"poster_url\", \"poster_path\", \"genre\"])"
   ]
  },
  {
   "cell_type": "code",
   "execution_count": 12,
   "id": "963b4c69",
   "metadata": {},
   "outputs": [
    {
     "data": {
      "application/vnd.jupyter.widget-view+json": {
       "model_id": "1658b1fa011d4fc9a9f9df9fd89de503",
       "version_major": 2,
       "version_minor": 0
      },
      "text/plain": [
       "  0%|          | 0/24 [00:00<?, ?it/s]"
      ]
     },
     "metadata": {},
     "output_type": "display_data"
    },
    {
     "name": "stdout",
     "output_type": "stream",
     "text": [
      "Romance: 300/300\n",
      "Action: 300/300\n",
      "Adventure: 300/300\n",
      "Animation: 300/300\n",
      "Biography: 300/300\n",
      "Comedy: 300/300\n",
      "Crime: 300/300\n",
      "Documentary: 300/300\n",
      "Drama: 300/300\n",
      "Family: 300/300\n",
      "Fantasy: 300/300\n",
      "History: 300/300\n",
      "Horror: 300/300\n",
      "Music: 300/300\n",
      "Musical: 300/300\n",
      "Mystery: 300/300\n",
      "Sci-Fi: 300/300\n",
      "Sport: 300/300\n",
      "Thriller: 300/300\n",
      "War: 300/300\n",
      "Western: 300/300\n",
      "Short: 31/300\r"
     ]
    }
   ],
   "source": [
    "idx = 0\n",
    "domain = \"https://www.imdb.com/title/\"\n",
    "\n",
    "for label in tqdm(labels):\n",
    "    n = 0\n",
    "    # Films should not be repeated in different genres.\n",
    "    train_data = train_data[train_data[\"used\"] == 0]\n",
    "    train_data.reset_index(drop=True, inplace=True)\n",
    "    \n",
    "    for row in range(len(train_data)):\n",
    "        if label in train_data.loc[row, \"genres\"].split(\",\"):\n",
    "            try:\n",
    "                search_url = domain + train_data.loc[row, \"tconst\"] + \"/\"\n",
    "                with urllib.request.urlopen(search_url) as response:\n",
    "                    html = response.read()\n",
    "                    soup = BeautifulSoup(html, \"html.parser\")\n",
    "                \n",
    "                synopsis = soup.find(\"meta\", property=\"og:description\")[\"content\"].split(\": \")[1]\n",
    "                image_url = soup.find(\"meta\", property=\"og:image\")[\"content\"]\n",
    "                urllib.request.urlretrieve(image_url, os.path.join(root, label, \"{}.jpg\".format(n)))\n",
    "                \n",
    "                cleaned_data.loc[idx, \"id\"] = train_data.loc[row, \"tconst\"]\n",
    "                cleaned_data.loc[idx, \"title\"] = train_data.loc[row, \"primaryTitle\"]\n",
    "                cleaned_data.loc[idx, \"synopsis\"] = synopsis\n",
    "                cleaned_data.loc[idx, \"poster_url\"] = image_url\n",
    "                cleaned_data.loc[idx, \"poster_path\"] = os.path.join(root, label, \"{}.jpg\".format(n))\n",
    "                cleaned_data.loc[idx, \"genre\"] = label\n",
    "                train_data.loc[row, \"used\"] = 1\n",
    "                n = n + 1\n",
    "                idx = idx + 1\n",
    "            except:\n",
    "                pass\n",
    "            \n",
    "            print(\"{}: {}/300\".format(label, n), end=\"\\r\")\n",
    "            if n == 300:\n",
    "                print(\"{}: {}/300\".format(label, n))\n",
    "                break"
   ]
  },
  {
   "cell_type": "code",
   "execution_count": 13,
   "id": "6c10279b",
   "metadata": {},
   "outputs": [],
   "source": [
    "cleaned_data.to_csv(\"cleaned_data.csv\", index=False)\n",
    "train_data.to_csv(\"train_data.csv\", index=False)"
   ]
  },
  {
   "cell_type": "markdown",
   "id": "c7e5947c",
   "metadata": {},
   "source": [
    "Some manipulations to collect the missing data."
   ]
  },
  {
   "cell_type": "code",
   "execution_count": 5,
   "id": "387a7dd3",
   "metadata": {},
   "outputs": [
    {
     "name": "stdout",
     "output_type": "stream",
     "text": [
      "Number of unique titles: 462974\n"
     ]
    },
    {
     "data": {
      "text/html": [
       "<div>\n",
       "<style scoped>\n",
       "    .dataframe tbody tr th:only-of-type {\n",
       "        vertical-align: middle;\n",
       "    }\n",
       "\n",
       "    .dataframe tbody tr th {\n",
       "        vertical-align: top;\n",
       "    }\n",
       "\n",
       "    .dataframe thead th {\n",
       "        text-align: right;\n",
       "    }\n",
       "</style>\n",
       "<table border=\"1\" class=\"dataframe\">\n",
       "  <thead>\n",
       "    <tr style=\"text-align: right;\">\n",
       "      <th></th>\n",
       "      <th>tconst</th>\n",
       "      <th>titleType</th>\n",
       "      <th>primaryTitle</th>\n",
       "      <th>startYear</th>\n",
       "      <th>genres</th>\n",
       "    </tr>\n",
       "  </thead>\n",
       "  <tbody>\n",
       "    <tr>\n",
       "      <th>0</th>\n",
       "      <td>tt0060366</td>\n",
       "      <td>short</td>\n",
       "      <td>A Embalagem de Vidro</td>\n",
       "      <td>2020</td>\n",
       "      <td>Documentary,Short</td>\n",
       "    </tr>\n",
       "    <tr>\n",
       "      <th>1</th>\n",
       "      <td>tt0065047</td>\n",
       "      <td>short</td>\n",
       "      <td>The Sun's Gonna Shine</td>\n",
       "      <td>2014</td>\n",
       "      <td>Documentary,Music,Short</td>\n",
       "    </tr>\n",
       "    <tr>\n",
       "      <th>2</th>\n",
       "      <td>tt0089435</td>\n",
       "      <td>short</td>\n",
       "      <td>Kokoa</td>\n",
       "      <td>2019</td>\n",
       "      <td>Animation,Short</td>\n",
       "    </tr>\n",
       "    <tr>\n",
       "      <th>3</th>\n",
       "      <td>tt0108270</td>\n",
       "      <td>short</td>\n",
       "      <td>Symphony 92.4 FM</td>\n",
       "      <td>2013</td>\n",
       "      <td>Short</td>\n",
       "    </tr>\n",
       "    <tr>\n",
       "      <th>4</th>\n",
       "      <td>tt0110152</td>\n",
       "      <td>short</td>\n",
       "      <td>The History of the World Episode 16 the Invent...</td>\n",
       "      <td>2016</td>\n",
       "      <td>Short</td>\n",
       "    </tr>\n",
       "  </tbody>\n",
       "</table>\n",
       "</div>"
      ],
      "text/plain": [
       "      tconst titleType                                       primaryTitle  \\\n",
       "0  tt0060366     short                               A Embalagem de Vidro   \n",
       "1  tt0065047     short                              The Sun's Gonna Shine   \n",
       "2  tt0089435     short                                              Kokoa   \n",
       "3  tt0108270     short                                   Symphony 92.4 FM   \n",
       "4  tt0110152     short  The History of the World Episode 16 the Invent...   \n",
       "\n",
       "   startYear                   genres  \n",
       "0       2020        Documentary,Short  \n",
       "1       2014  Documentary,Music,Short  \n",
       "2       2019          Animation,Short  \n",
       "3       2013                    Short  \n",
       "4       2016                    Short  "
      ]
     },
     "execution_count": 5,
     "metadata": {},
     "output_type": "execute_result"
    }
   ],
   "source": [
    "raw_data = raw_data[raw_data[\"titleType\"] == \"short\"]\n",
    "\n",
    "for column in raw_data:\n",
    "    raw_data = raw_data[raw_data[column] != r\"\\N\"]\n",
    "\n",
    "raw_data[\"startYear\"] = pd.to_numeric(raw_data[\"startYear\"], errors=\"coerce\")\n",
    "train_data = raw_data[(raw_data[\"startYear\"] >= 2010) & (raw_data[\"startYear\"] <= 2020)]\n",
    "\n",
    "def filter_titles(title: str) -> str | None:\n",
    "    if title.isascii():\n",
    "        return title\n",
    "\n",
    "train_data[\"primaryTitle\"] = train_data[\"primaryTitle\"].apply(filter_titles)\n",
    "train_data.dropna(inplace=True)\n",
    "train_data.reset_index(drop=True, inplace=True)\n",
    "\n",
    "print(f\"Number of unique titles: {train_data['tconst'].nunique()}\")\n",
    "train_data.head()"
   ]
  },
  {
   "cell_type": "code",
   "execution_count": 6,
   "id": "c32a5328",
   "metadata": {},
   "outputs": [
    {
     "name": "stdout",
     "output_type": "stream",
     "text": [
      "Size of dataset: 6331\n"
     ]
    },
    {
     "data": {
      "text/html": [
       "<div>\n",
       "<style scoped>\n",
       "    .dataframe tbody tr th:only-of-type {\n",
       "        vertical-align: middle;\n",
       "    }\n",
       "\n",
       "    .dataframe tbody tr th {\n",
       "        vertical-align: top;\n",
       "    }\n",
       "\n",
       "    .dataframe thead th {\n",
       "        text-align: right;\n",
       "    }\n",
       "</style>\n",
       "<table border=\"1\" class=\"dataframe\">\n",
       "  <thead>\n",
       "    <tr style=\"text-align: right;\">\n",
       "      <th></th>\n",
       "      <th>id</th>\n",
       "      <th>title</th>\n",
       "      <th>synopsis</th>\n",
       "      <th>poster_url</th>\n",
       "      <th>poster_path</th>\n",
       "      <th>genre</th>\n",
       "    </tr>\n",
       "  </thead>\n",
       "  <tbody>\n",
       "    <tr>\n",
       "      <th>0</th>\n",
       "      <td>tt0311448</td>\n",
       "      <td>Lives No Longer Ours</td>\n",
       "      <td>Directed by Paul Sanderson. With Paul Sanderso...</td>\n",
       "      <td>https://m.media-amazon.com/images/M/MV5BZGQxMD...</td>\n",
       "      <td>imdb_dataset\\Romance\\0.jpg</td>\n",
       "      <td>Romance</td>\n",
       "    </tr>\n",
       "    <tr>\n",
       "      <th>1</th>\n",
       "      <td>tt0337692</td>\n",
       "      <td>On the Road</td>\n",
       "      <td>Directed by Walter Salles. With Sam Riley, Gar...</td>\n",
       "      <td>https://m.media-amazon.com/images/M/MV5BMTc1Mz...</td>\n",
       "      <td>imdb_dataset\\Romance\\1.jpg</td>\n",
       "      <td>Romance</td>\n",
       "    </tr>\n",
       "    <tr>\n",
       "      <th>2</th>\n",
       "      <td>tt0365545</td>\n",
       "      <td>Nappily Ever After</td>\n",
       "      <td>Directed by Haifaa Al-Mansour. With Sanaa Lath...</td>\n",
       "      <td>https://m.media-amazon.com/images/M/MV5BMzIzMW...</td>\n",
       "      <td>imdb_dataset\\Romance\\2.jpg</td>\n",
       "      <td>Romance</td>\n",
       "    </tr>\n",
       "    <tr>\n",
       "      <th>3</th>\n",
       "      <td>tt0393049</td>\n",
       "      <td>Anderson's Cross</td>\n",
       "      <td>Directed by Jerome Elston Scott. With Michael ...</td>\n",
       "      <td>https://m.media-amazon.com/images/M/MV5BOTcwOT...</td>\n",
       "      <td>imdb_dataset\\Romance\\3.jpg</td>\n",
       "      <td>Romance</td>\n",
       "    </tr>\n",
       "    <tr>\n",
       "      <th>4</th>\n",
       "      <td>tt0435651</td>\n",
       "      <td>The Giver</td>\n",
       "      <td>Directed by Phillip Noyce. With Jeff Bridges, ...</td>\n",
       "      <td>https://m.media-amazon.com/images/M/MV5BMTY1MT...</td>\n",
       "      <td>imdb_dataset\\Romance\\4.jpg</td>\n",
       "      <td>Romance</td>\n",
       "    </tr>\n",
       "  </tbody>\n",
       "</table>\n",
       "</div>"
      ],
      "text/plain": [
       "          id                 title  \\\n",
       "0  tt0311448  Lives No Longer Ours   \n",
       "1  tt0337692           On the Road   \n",
       "2  tt0365545    Nappily Ever After   \n",
       "3  tt0393049      Anderson's Cross   \n",
       "4  tt0435651             The Giver   \n",
       "\n",
       "                                            synopsis  \\\n",
       "0  Directed by Paul Sanderson. With Paul Sanderso...   \n",
       "1  Directed by Walter Salles. With Sam Riley, Gar...   \n",
       "2  Directed by Haifaa Al-Mansour. With Sanaa Lath...   \n",
       "3  Directed by Jerome Elston Scott. With Michael ...   \n",
       "4  Directed by Phillip Noyce. With Jeff Bridges, ...   \n",
       "\n",
       "                                          poster_url  \\\n",
       "0  https://m.media-amazon.com/images/M/MV5BZGQxMD...   \n",
       "1  https://m.media-amazon.com/images/M/MV5BMTc1Mz...   \n",
       "2  https://m.media-amazon.com/images/M/MV5BMzIzMW...   \n",
       "3  https://m.media-amazon.com/images/M/MV5BOTcwOT...   \n",
       "4  https://m.media-amazon.com/images/M/MV5BMTY1MT...   \n",
       "\n",
       "                  poster_path    genre  \n",
       "0  imdb_dataset\\Romance\\0.jpg  Romance  \n",
       "1  imdb_dataset\\Romance\\1.jpg  Romance  \n",
       "2  imdb_dataset\\Romance\\2.jpg  Romance  \n",
       "3  imdb_dataset\\Romance\\3.jpg  Romance  \n",
       "4  imdb_dataset\\Romance\\4.jpg  Romance  "
      ]
     },
     "execution_count": 6,
     "metadata": {},
     "output_type": "execute_result"
    }
   ],
   "source": [
    "cleaned_data = pd.read_csv(\"cleaned_data.csv\")\n",
    "print(f\"Size of dataset: {len(cleaned_data)}\")\n",
    "cleaned_data.head()"
   ]
  },
  {
   "cell_type": "code",
   "execution_count": 7,
   "id": "799eebed",
   "metadata": {},
   "outputs": [
    {
     "data": {
      "application/vnd.jupyter.widget-view+json": {
       "model_id": "3185786a04384516b77e1d6496bc77b6",
       "version_major": 2,
       "version_minor": 0
      },
      "text/plain": [
       "  0%|          | 0/1 [00:00<?, ?it/s]"
      ]
     },
     "metadata": {},
     "output_type": "display_data"
    },
    {
     "name": "stdout",
     "output_type": "stream",
     "text": [
      "Short: 300/300\n"
     ]
    }
   ],
   "source": [
    "root = \"imdb_dataset\"\n",
    "train_data[\"used\"] = 0\n",
    "labels = [\"Short\"]\n",
    "\n",
    "idx = 6331\n",
    "domain = \"https://www.imdb.com/title/\"\n",
    "\n",
    "for label in tqdm(labels):\n",
    "    n = 31\n",
    "    # Films should not be repeated in different genres.\n",
    "    train_data = train_data[train_data[\"used\"] == 0]\n",
    "    train_data.reset_index(drop=True, inplace=True)\n",
    "    \n",
    "    for row in range(len(train_data)):\n",
    "        if label in train_data.loc[row, \"genres\"].split(\",\"):\n",
    "            try:\n",
    "                search_url = domain + train_data.loc[row, \"tconst\"] + \"/\"\n",
    "                with urllib.request.urlopen(search_url) as response:\n",
    "                    html = response.read()\n",
    "                    soup = BeautifulSoup(html, \"html.parser\")\n",
    "                \n",
    "                synopsis = soup.find(\"meta\", property=\"og:description\")[\"content\"].split(\": \")[1]\n",
    "                image_url = soup.find(\"meta\", property=\"og:image\")[\"content\"]\n",
    "                urllib.request.urlretrieve(image_url, os.path.join(root, label, \"{}.jpg\".format(n)))\n",
    "                \n",
    "                cleaned_data.loc[idx, \"id\"] = train_data.loc[row, \"tconst\"]\n",
    "                cleaned_data.loc[idx, \"title\"] = train_data.loc[row, \"primaryTitle\"]\n",
    "                cleaned_data.loc[idx, \"synopsis\"] = synopsis\n",
    "                cleaned_data.loc[idx, \"poster_url\"] = image_url\n",
    "                cleaned_data.loc[idx, \"poster_path\"] = os.path.join(root, label, \"{}.jpg\".format(n))\n",
    "                cleaned_data.loc[idx, \"genre\"] = label\n",
    "                train_data.loc[row, \"used\"] = 1\n",
    "                n = n + 1\n",
    "                idx = idx + 1\n",
    "            except:\n",
    "                pass\n",
    "            \n",
    "            print(\"{}: {}/300\".format(label, n), end=\"\\r\")\n",
    "            if n == 300:\n",
    "                print(\"{}: {}/300\".format(label, n))\n",
    "                break"
   ]
  },
  {
   "cell_type": "code",
   "execution_count": 10,
   "id": "1d4a55cc",
   "metadata": {},
   "outputs": [
    {
     "name": "stdout",
     "output_type": "stream",
     "text": [
      "Size of dataset: 6600\n",
      "Size of dataset: 5898\n"
     ]
    },
    {
     "data": {
      "image/png": "[encoded data removed]",
      "text/plain": [
       "<Figure size 1080x360 with 1 Axes>"
      ]
     },
     "metadata": {
      "needs_background": "light"
     },
     "output_type": "display_data"
    }
   ],
   "source": [
    "print(f\"Size of dataset: {len(cleaned_data)}\")\n",
    "cleaned_data.drop_duplicates(subset=[\"poster_url\"], keep=False, inplace=True)\n",
    "cleaned_data.reset_index(drop=True, inplace=True)\n",
    "print(f\"Size of dataset: {len(cleaned_data)}\")\n",
    "cleaned_data.pivot_table(index=\"genre\", values=\"title\", aggfunc=\"count\").plot(kind=\"bar\", figsize=(15, 5))\n",
    "plt.show()"
   ]
  },
  {
   "cell_type": "code",
   "execution_count": 12,
   "id": "3a2d63e8",
   "metadata": {},
   "outputs": [
    {
     "data": {
      "text/plain": [
       "genre\n",
       "Action         286\n",
       "Adventure      273\n",
       "Animation      278\n",
       "Biography      264\n",
       "Comedy         283\n",
       "Crime          278\n",
       "Documentary    267\n",
       "Drama          273\n",
       "Family         272\n",
       "Fantasy        265\n",
       "History        266\n",
       "Horror         282\n",
       "Music          231\n",
       "Musical        259\n",
       "Mystery        281\n",
       "Romance        278\n",
       "Sci-Fi         271\n",
       "Short          227\n",
       "Sport          264\n",
       "Thriller       279\n",
       "War            265\n",
       "Western        256\n",
       "Name: title, dtype: int64"
      ]
     },
     "execution_count": 12,
     "metadata": {},
     "output_type": "execute_result"
    }
   ],
   "source": [
    "cleaned_data.groupby(by=\"genre\")[\"title\"].count()"
   ]
  },
  {
   "cell_type": "code",
   "execution_count": 13,
   "id": "68e21182",
   "metadata": {},
   "outputs": [
    {
     "data": {
      "application/vnd.jupyter.widget-view+json": {
       "model_id": "1140de5bfa33439cb014b4cede64bd3f",
       "version_major": 2,
       "version_minor": 0
      },
      "text/plain": [
       "  0%|          | 0/1 [00:00<?, ?it/s]"
      ]
     },
     "metadata": {},
     "output_type": "display_data"
    },
    {
     "name": "stdout",
     "output_type": "stream",
     "text": [
      "Superhero: 300/300\n"
     ]
    }
   ],
   "source": [
    "train_data = pd.read_csv(\"train_data.csv\")\n",
    "root = \"imdb_dataset\"\n",
    "labels = [\"Superhero\"]\n",
    "\n",
    "idx = 5898\n",
    "domain = \"https://www.imdb.com/title/\"\n",
    "\n",
    "for label in tqdm(labels):\n",
    "    n = 0\n",
    "    # Films should not be repeated in different genres.\n",
    "    train_data = train_data[train_data[\"used\"] == 0]\n",
    "    train_data.reset_index(drop=True, inplace=True)\n",
    "    \n",
    "    for row in range(len(train_data)):\n",
    "        if \"Fantasy\" in train_data.loc[row, \"genres\"].split(\",\") and \"Action\" in train_data.loc[row, \"genres\"].split(\",\"):\n",
    "            try:\n",
    "                search_url = domain + train_data.loc[row, \"tconst\"] + \"/\"\n",
    "                with urllib.request.urlopen(search_url) as response:\n",
    "                    html = response.read()\n",
    "                    soup = BeautifulSoup(html, \"html.parser\")\n",
    "                \n",
    "                synopsis = soup.find(\"meta\", property=\"og:description\")[\"content\"].split(\": \")[1]\n",
    "                image_url = soup.find(\"meta\", property=\"og:image\")[\"content\"]\n",
    "                urllib.request.urlretrieve(image_url, os.path.join(root, label, \"{}.jpg\".format(n)))\n",
    "                \n",
    "                cleaned_data.loc[idx, \"id\"] = train_data.loc[row, \"tconst\"]\n",
    "                cleaned_data.loc[idx, \"title\"] = train_data.loc[row, \"primaryTitle\"]\n",
    "                cleaned_data.loc[idx, \"synopsis\"] = synopsis\n",
    "                cleaned_data.loc[idx, \"poster_url\"] = image_url\n",
    "                cleaned_data.loc[idx, \"poster_path\"] = os.path.join(root, label, \"{}.jpg\".format(n))\n",
    "                cleaned_data.loc[idx, \"genre\"] = label\n",
    "                train_data.loc[row, \"used\"] = 1\n",
    "                n = n + 1\n",
    "                idx = idx + 1\n",
    "            except:\n",
    "                pass\n",
    "            \n",
    "            print(\"{}: {}/300\".format(label, n), end=\"\\r\")\n",
    "            if n == 300:\n",
    "                print(\"{}: {}/300\".format(label, n))\n",
    "                break"
   ]
  },
  {
   "cell_type": "code",
   "execution_count": 14,
   "id": "8157cf7a",
   "metadata": {},
   "outputs": [],
   "source": [
    "raw_data = pd.read_csv(\"imdb.tsv\", sep=\"\\t\", low_memory=False)\n",
    "raw_data = raw_data[[\"tconst\", \"titleType\", \"primaryTitle\", \"startYear\", \"genres\"]]\n",
    "raw_data = raw_data[raw_data[\"titleType\"] == \"movie\"]\n",
    "\n",
    "for column in raw_data:\n",
    "    raw_data = raw_data[raw_data[column] != r\"\\N\"]\n",
    "\n",
    "raw_data[\"startYear\"] = pd.to_numeric(raw_data[\"startYear\"], errors=\"coerce\")\n",
    "train_data = raw_data[raw_data[\"startYear\"] < 2010]\n",
    "train_data.reset_index(drop=True, inplace=True)"
   ]
  },
  {
   "cell_type": "code",
   "execution_count": 15,
   "id": "a7d8e815",
   "metadata": {},
   "outputs": [
    {
     "data": {
      "application/vnd.jupyter.widget-view+json": {
       "model_id": "d19da400aeb941e89b4f57e6fe79ac1f",
       "version_major": 2,
       "version_minor": 0
      },
      "text/plain": [
       "  0%|          | 0/1 [00:00<?, ?it/s]"
      ]
     },
     "metadata": {},
     "output_type": "display_data"
    },
    {
     "name": "stdout",
     "output_type": "stream",
     "text": [
      "Film-Noir: 300/300\n"
     ]
    }
   ],
   "source": [
    "root = \"imdb_dataset\"\n",
    "train_data[\"used\"] = 0\n",
    "labels = [\"Film-Noir\"]\n",
    "\n",
    "domain = \"https://www.imdb.com/title/\"\n",
    "\n",
    "for label in tqdm(labels):\n",
    "    n = 0\n",
    "    # Films should not be repeated in different genres.\n",
    "    train_data = train_data[train_data[\"used\"] == 0]\n",
    "    train_data.reset_index(drop=True, inplace=True)\n",
    "    \n",
    "    for row in range(len(train_data)):\n",
    "        if label in train_data.loc[row, \"genres\"].split(\",\"):\n",
    "            try:\n",
    "                search_url = domain + train_data.loc[row, \"tconst\"] + \"/\"\n",
    "                with urllib.request.urlopen(search_url) as response:\n",
    "                    html = response.read()\n",
    "                    soup = BeautifulSoup(html, \"html.parser\")\n",
    "                \n",
    "                synopsis = soup.find(\"meta\", property=\"og:description\")[\"content\"].split(\": \")[1]\n",
    "                image_url = soup.find(\"meta\", property=\"og:image\")[\"content\"]\n",
    "                urllib.request.urlretrieve(image_url, os.path.join(root, label, \"{}.jpg\".format(n)))\n",
    "                \n",
    "                cleaned_data.loc[idx, \"id\"] = train_data.loc[row, \"tconst\"]\n",
    "                cleaned_data.loc[idx, \"title\"] = train_data.loc[row, \"primaryTitle\"]\n",
    "                cleaned_data.loc[idx, \"synopsis\"] = synopsis\n",
    "                cleaned_data.loc[idx, \"poster_url\"] = image_url\n",
    "                cleaned_data.loc[idx, \"poster_path\"] = os.path.join(root, label, \"{}.jpg\".format(n))\n",
    "                cleaned_data.loc[idx, \"genre\"] = label\n",
    "                train_data.loc[row, \"used\"] = 1\n",
    "                n = n + 1\n",
    "                idx = idx + 1\n",
    "            except:\n",
    "                pass\n",
    "            \n",
    "            print(\"{}: {}/300\".format(label, n), end=\"\\r\")\n",
    "            if n == 300:\n",
    "                print(\"{}: {}/300\".format(label, n))\n",
    "                break"
   ]
  },
  {
   "cell_type": "code",
   "execution_count": 16,
   "id": "95aef0eb",
   "metadata": {},
   "outputs": [
    {
     "data": {
      "text/plain": [
       "genre\n",
       "Action         286\n",
       "Adventure      273\n",
       "Animation      278\n",
       "Biography      264\n",
       "Comedy         283\n",
       "Crime          278\n",
       "Documentary    267\n",
       "Drama          273\n",
       "Family         272\n",
       "Fantasy        265\n",
       "Film-Noir      299\n",
       "History        266\n",
       "Horror         282\n",
       "Music          231\n",
       "Musical        259\n",
       "Mystery        281\n",
       "Romance        278\n",
       "Sci-Fi         271\n",
       "Short          227\n",
       "Sport          264\n",
       "Superhero      283\n",
       "Thriller       279\n",
       "War            265\n",
       "Western        256\n",
       "Name: title, dtype: int64"
      ]
     },
     "execution_count": 16,
     "metadata": {},
     "output_type": "execute_result"
    }
   ],
   "source": [
    "cleaned_data.drop_duplicates(subset=[\"poster_url\"], keep=False, inplace=True)\n",
    "cleaned_data.reset_index(drop=True, inplace=True)\n",
    "cleaned_data.groupby(by=\"genre\")[\"title\"].count()"
   ]
  },
  {
   "cell_type": "code",
   "execution_count": 17,
   "id": "1ae87635",
   "metadata": {},
   "outputs": [
    {
     "name": "stdout",
     "output_type": "stream",
     "text": [
      "Size of dataset: 6480\n"
     ]
    },
    {
     "data": {
      "image/png": "[encoded data removed]",
      "text/plain": [
       "<Figure size 1080x360 with 1 Axes>"
      ]
     },
     "metadata": {
      "needs_background": "light"
     },
     "output_type": "display_data"
    }
   ],
   "source": [
    "print(f\"Size of dataset: {len(cleaned_data)}\")\n",
    "cleaned_data.pivot_table(index=\"genre\", values=\"title\", aggfunc=\"count\").plot(kind=\"bar\", figsize=(15, 5))\n",
    "plt.show()"
   ]
  },
  {
   "cell_type": "code",
   "execution_count": 18,
   "id": "c10f00c5",
   "metadata": {},
   "outputs": [],
   "source": [
    "cleaned_data.to_csv(\"cleaned_data.csv\", index=False)"
   ]
  }
 ],
 "metadata": {
  "kernelspec": {
   "display_name": "Python 3 (ipykernel)",
   "language": "python",
   "name": "python3"
  },
  "language_info": {
   "codemirror_mode": {
    "name": "ipython",
    "version": 3
   },
   "file_extension": ".py",
   "mimetype": "text/x-python",
   "name": "python",
   "nbconvert_exporter": "python",
   "pygments_lexer": "ipython3",
   "version": "3.9.7"
  }
 },
 "nbformat": 4,
 "nbformat_minor": 5
}
